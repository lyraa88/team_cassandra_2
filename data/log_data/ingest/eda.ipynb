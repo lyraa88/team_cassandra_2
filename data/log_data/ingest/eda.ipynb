{
 "cells": [
  {
   "cell_type": "code",
   "execution_count": 2,
   "id": "5cadbd36",
   "metadata": {},
   "outputs": [],
   "source": [
    "import pandas as pd\n",
    "import re"
   ]
  },
  {
   "cell_type": "code",
   "execution_count": 4,
   "id": "d0c65ef5",
   "metadata": {},
   "outputs": [
    {
     "name": "stderr",
     "output_type": "stream",
     "text": [
      "C:\\Users\\hjp\\AppData\\Local\\Temp\\ipykernel_5216\\671612845.py:1: DtypeWarning: Columns (6) have mixed types. Specify dtype option on import or set low_memory=False.\n",
      "  temp_df = pd.read_csv('logs.csv')\n"
     ]
    }
   ],
   "source": [
    "temp_df = pd.read_csv('logs.csv')\n",
    "temp_df.fillna('', inplace=True)"
   ]
  },
  {
   "cell_type": "code",
   "execution_count": 5,
   "id": "28ac191e",
   "metadata": {},
   "outputs": [],
   "source": [
    "df = temp_df.copy()"
   ]
  },
  {
   "cell_type": "code",
   "execution_count": 6,
   "id": "90995532",
   "metadata": {},
   "outputs": [
    {
     "data": {
      "text/plain": [
       "['accessed_date',\n",
       " 'duration_(secs)',\n",
       " 'network_protocol',\n",
       " 'ip',\n",
       " 'bytes',\n",
       " 'accessed_Ffom',\n",
       " 'age',\n",
       " 'gender',\n",
       " 'country',\n",
       " 'membership',\n",
       " 'language',\n",
       " 'sales',\n",
       " 'returned',\n",
       " 'returned_amount',\n",
       " 'pay_method']"
      ]
     },
     "execution_count": 6,
     "metadata": {},
     "output_type": "execute_result"
    }
   ],
   "source": [
    "df.columns.tolist()"
   ]
  },
  {
   "cell_type": "code",
   "execution_count": 7,
   "id": "69df6bea",
   "metadata": {},
   "outputs": [
    {
     "name": "stdout",
     "output_type": "stream",
     "text": [
      "81747\n",
      "3501\n",
      "5\n",
      "137199\n",
      "4695\n",
      "8\n",
      "54\n",
      "3\n",
      "27\n",
      "3\n",
      "30\n",
      "5600\n",
      "2\n",
      "2135\n",
      "4\n"
     ]
    }
   ],
   "source": [
    "for column in df.columns:\n",
    "    print(len(set(df[column])))"
   ]
  },
  {
   "cell_type": "code",
   "execution_count": 15,
   "id": "f069ecb8",
   "metadata": {},
   "outputs": [
    {
     "data": {
      "text/plain": [
       "11199968.0"
      ]
     },
     "execution_count": 15,
     "metadata": {},
     "output_type": "execute_result"
    }
   ],
   "source": [
    "max([element * 1000 for element in df['sales'].values.tolist()])"
   ]
  },
  {
   "cell_type": "code",
   "execution_count": 17,
   "id": "ef31a40d",
   "metadata": {},
   "outputs": [
    {
     "data": {
      "text/plain": [
       "{'Android App',\n",
       " 'Chrome',\n",
       " 'IOS App',\n",
       " 'Microsoft Edge',\n",
       " 'Mozilla Firefox',\n",
       " 'Others',\n",
       " 'SafFRi',\n",
       " 'Safari'}"
      ]
     },
     "execution_count": 17,
     "metadata": {},
     "output_type": "execute_result"
    }
   ],
   "source": [
    "set(df['accessed_Ffom'])"
   ]
  },
  {
   "cell_type": "code",
   "execution_count": null,
   "id": "1e14ea6e",
   "metadata": {},
   "outputs": [],
   "source": []
  }
 ],
 "metadata": {
  "kernelspec": {
   "display_name": "base",
   "language": "python",
   "name": "python3"
  },
  "language_info": {
   "codemirror_mode": {
    "name": "ipython",
    "version": 3
   },
   "file_extension": ".py",
   "mimetype": "text/x-python",
   "name": "python",
   "nbconvert_exporter": "python",
   "pygments_lexer": "ipython3",
   "version": "3.11.5"
  }
 },
 "nbformat": 4,
 "nbformat_minor": 5
}
